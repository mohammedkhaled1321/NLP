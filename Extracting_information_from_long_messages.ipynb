{
  "nbformat": 4,
  "nbformat_minor": 0,
  "metadata": {
    "colab": {
      "name": "Extracting_information_from_long_messages.ipynb",
      "provenance": [],
      "collapsed_sections": [],
      "authorship_tag": "ABX9TyPngjOamwTas9BWNXOc8JNa",
      "include_colab_link": true
    },
    "kernelspec": {
      "name": "python3",
      "display_name": "Python 3"
    },
    "language_info": {
      "name": "python"
    }
  },
  "cells": [
    {
      "cell_type": "markdown",
      "metadata": {
        "id": "view-in-github",
        "colab_type": "text"
      },
      "source": [
        "<a href=\"https://colab.research.google.com/github/mohammedkhaled1321/mohkh/blob/main/Extracting_information_from_long_messages.ipynb\" target=\"_parent\"><img src=\"https://colab.research.google.com/assets/colab-badge.svg\" alt=\"Open In Colab\"/></a>"
      ]
    },
    {
      "cell_type": "markdown",
      "source": [
        "# **استخراج معلومات المواعيد من الرسائل**"
      ],
      "metadata": {
        "id": "BN_pml4BNEqJ"
      }
    },
    {
      "cell_type": "code",
      "execution_count": null,
      "metadata": {
        "id": "j4ruoNoyM9wD"
      },
      "outputs": [],
      "source": [
        "import re \n",
        "message = [\n",
        "           \"مرحباً كيف حالك اتمنى ان تكون بخير سيدي ، اريد ان اذكرك ان لديك موعد مع مارك زوكربيرغ عند الساعة التاسعة مساء في كاليفورنيا المبنى التاسع عشر لشركة فيسبوك\",\n",
        "           \"أنا أعلم أنك مشغول للغاية ولا أريد أن أزعجك بالمزيد من الأمور، لكن وجدت أنه من الضروري تذكيرك بأنه لديك موعد مع السيد علي بخصوص العمل في الساعة 10 مساء يوم السبت في مبنى الشركة الثالث\",\n",
        "           \"مساء الخير،كيف حالك يا محمد؟ لم نتحدث منذ فترة طويلة للغاية. أتمنى أن تكون بخير . أرغب في تذكيرك بأننا سنلتقي مع بعض في كوالالمبور الاسبوع المقبل اتمنى ان لا تكون قد نسيت .خالص تحياتي \"\n",
        "\n",
        "]\n",
        "\n",
        "appointrnent_p = [r\"(مع|موعدي|موعدنا|لقاءنا|لقا.نا.|.لا?تق)([\\w\\s]{3,16})([^\\s عند الى في الساعة])\",\n",
        "                  r\"(مع|موعدي|موعدنا|لقاءنا|لقا.نا.|.لا?تق)?(في )[^\\s(الشهر)(الاسبوع)(الساعة)][\\w\\s]{,40}([^ .عند الى في مع])\",\n",
        "                  r\"(الاسبوع|اليوم|الشهر|الساعة) [\\w\\s]{,16}([^ .عند الى في مع])\"]\n",
        "\n",
        "for msg in message:\n",
        "    for  pattern1 in appointrnent_p:\n",
        "        search = re.search(pattern1, msg )\n",
        "        print(search.group())\n",
        "    print(\"#\" * 100)"
      ]
    }
  ]
}
